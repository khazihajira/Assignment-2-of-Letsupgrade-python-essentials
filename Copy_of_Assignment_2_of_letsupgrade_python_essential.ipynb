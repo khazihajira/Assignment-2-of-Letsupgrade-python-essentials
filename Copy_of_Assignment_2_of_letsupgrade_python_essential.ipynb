{
  "nbformat": 4,
  "nbformat_minor": 0,
  "metadata": {
    "colab": {
      "name": "Copy of Assignment-2_of_letsupgrade_python_essential.ipynb",
      "provenance": [],
      "collapsed_sections": [],
      "authorship_tag": "ABX9TyM7gnQYVZzUcPF4jyHVIkHA",
      "include_colab_link": true
    },
    "kernelspec": {
      "name": "python3",
      "display_name": "Python 3"
    }
  },
  "cells": [
    {
      "cell_type": "markdown",
      "metadata": {
        "id": "view-in-github",
        "colab_type": "text"
      },
      "source": [
        "<a href=\"https://colab.research.google.com/github/khazihajira/Assignment-2-of-Letsupgrade-python-essentials/blob/master/Copy_of_Assignment_2_of_letsupgrade_python_essential.ipynb\" target=\"_parent\"><img src=\"https://colab.research.google.com/assets/colab-badge.svg\" alt=\"Open In Colab\"/></a>"
      ]
    },
    {
      "cell_type": "code",
      "metadata": {
        "id": "ojrf6B2TEq1d",
        "colab_type": "code",
        "colab": {}
      },
      "source": [
        ""
      ],
      "execution_count": null,
      "outputs": []
    },
    {
      "cell_type": "markdown",
      "metadata": {
        "id": "uaqv4_Q9E_E-",
        "colab_type": "text"
      },
      "source": [
        "#Escape sequence"
      ]
    },
    {
      "cell_type": "code",
      "metadata": {
        "id": "gDC9djr5FF3k",
        "colab_type": "code",
        "colab": {
          "base_uri": "https://localhost:8080/",
          "height": 54
        },
        "outputId": "01a1ab75-9f7b-4491-f507-16bcd9a5b607"
      },
      "source": [
        "print (\"We are \\\" Letsupgraders\\\" from all over the country\")\n",
        "#back slash"
      ],
      "execution_count": null,
      "outputs": [
        {
          "output_type": "stream",
          "text": [
            "We are \" Letsupgraders\" from all over the country\n"
          ],
          "name": "stdout"
        }
      ]
    },
    {
      "cell_type": "code",
      "metadata": {
        "id": "5qTh9KozFxQc",
        "colab_type": "code",
        "colab": {
          "base_uri": "https://localhost:8080/",
          "height": 34
        },
        "outputId": "ac05858e-8bb0-4db2-b687-f11f520fd86a"
      },
      "source": [
        "TXT='It\\'s Alright' #single quote\n",
        "print (TXT)"
      ],
      "execution_count": null,
      "outputs": [
        {
          "output_type": "stream",
          "text": [
            "It's Alright\n"
          ],
          "name": "stdout"
        }
      ]
    },
    {
      "cell_type": "code",
      "metadata": {
        "id": "zCvH3agEGH8J",
        "colab_type": "code",
        "colab": {
          "base_uri": "https://localhost:8080/",
          "height": 51
        },
        "outputId": "ebc6a37a-7034-414d-ed9f-00f052992b15"
      },
      "source": [
        "Message=\"Hello \\n World!!\" #new line\n",
        "print (Message)"
      ],
      "execution_count": null,
      "outputs": [
        {
          "output_type": "stream",
          "text": [
            "Hello \n",
            " World!!\n"
          ],
          "name": "stdout"
        }
      ]
    },
    {
      "cell_type": "code",
      "metadata": {
        "id": "MyDG9YNOGY20",
        "colab_type": "code",
        "colab": {
          "base_uri": "https://localhost:8080/",
          "height": 34
        },
        "outputId": "0fb2cdab-cb19-4fbf-eb0d-503be9dcb07a"
      },
      "source": [
        "Var=\"High \\t five\" #tab\n",
        "print (Var)"
      ],
      "execution_count": null,
      "outputs": [
        {
          "output_type": "stream",
          "text": [
            "High \t five\n"
          ],
          "name": "stdout"
        }
      ]
    },
    {
      "cell_type": "code",
      "metadata": {
        "id": "VKKG6XriGlYx",
        "colab_type": "code",
        "colab": {
          "base_uri": "https://localhost:8080/",
          "height": 34
        },
        "outputId": "a747dfa0-dd07-40d3-86ad-b7210a49cc9f"
      },
      "source": [
        "store=\"Variables \\b in \\b memory\" #backspace\n",
        "print (store)"
      ],
      "execution_count": null,
      "outputs": [
        {
          "output_type": "stream",
          "text": [
            "Variables \b in \b memory\n"
          ],
          "name": "stdout"
        }
      ]
    },
    {
      "cell_type": "code",
      "metadata": {
        "id": "Yl8vSbBtHR7F",
        "colab_type": "code",
        "colab": {
          "base_uri": "https://localhost:8080/",
          "height": 34
        },
        "outputId": "9401a37b-4b6a-4d8e-8798-ca4742f84297"
      },
      "source": [
        " Var=\" Name \\r Hajira\" #carriage return\n",
        "print (Var)"
      ],
      "execution_count": null,
      "outputs": [
        {
          "output_type": "stream",
          "text": [
            " Name \r Hajira\n"
          ],
          "name": "stdout"
        }
      ]
    },
    {
      "cell_type": "code",
      "metadata": {
        "id": "_2p7f5LkH5Gi",
        "colab_type": "code",
        "colab": {
          "base_uri": "https://localhost:8080/",
          "height": 105
        },
        "outputId": "b5cc4b73-7ffd-4e68-f1a7-e3a15c3f6477"
      },
      "source": [
        "print(\"\"\"I am an Engineering Student .\n",
        "I love to learn coding.\n",
        "And it\\'s so exciting to learn with letsupgrade.\n",
        "Thank you\"\"\") #three double quotes"
      ],
      "execution_count": null,
      "outputs": [
        {
          "output_type": "stream",
          "text": [
            "I am an Engineering Student .\n",
            "I love to learn coding.\n",
            "And it's so exciting to learn with letsupgrade.\n",
            "Thank you\n"
          ],
          "name": "stdout"
        }
      ]
    },
    {
      "cell_type": "markdown",
      "metadata": {
        "id": "mqg_DLooI3YS",
        "colab_type": "text"
      },
      "source": [
        "#Format Output"
      ]
    },
    {
      "cell_type": "code",
      "metadata": {
        "id": "-mCV8ld7I9bd",
        "colab_type": "code",
        "colab": {
          "base_uri": "https://localhost:8080/",
          "height": 68
        },
        "outputId": "18b0428c-dc3b-4b96-c258-0982fc6edb14"
      },
      "source": [
        "Name=\"Haj_amicable\"\n",
        "Percentage=94.5\n",
        "Age=22\n",
        "print (\"Student name is %s \\nPercentage is %5f \\nAge is %2d\" %(Name, Percentage, Age))"
      ],
      "execution_count": null,
      "outputs": [
        {
          "output_type": "stream",
          "text": [
            "Student name is Haj_amicable \n",
            "Percentage is 94.500000 \n",
            "Age is 22\n"
          ],
          "name": "stdout"
        }
      ]
    },
    {
      "cell_type": "code",
      "metadata": {
        "id": "xKVepoq7KZzw",
        "colab_type": "code",
        "colab": {
          "base_uri": "https://localhost:8080/",
          "height": 85
        },
        "outputId": "2dd3a721-fdb9-4669-f13d-2b73ef49baf7"
      },
      "source": [
        " Name=\"Haj_amicable\"\n",
        "Percentage=94.5\n",
        "Age=22\n",
        "print(\"Student Details:\")\n",
        "print(f\"Student name (Name)\\nPercentage is(Percentage)\\nAge is (Age)\") \n",
        "#f string"
      ],
      "execution_count": null,
      "outputs": [
        {
          "output_type": "stream",
          "text": [
            "Student Details:\n",
            "Student name (Name)\n",
            "Percentage is(Percentage)\n",
            "Age is (Age)\n"
          ],
          "name": "stdout"
        }
      ]
    },
    {
      "cell_type": "markdown",
      "metadata": {
        "id": "LTwF1dO2LtIo",
        "colab_type": "text"
      },
      "source": [
        "#Python Variable"
      ]
    },
    {
      "cell_type": "code",
      "metadata": {
        "id": "zoR0lVXFL0oM",
        "colab_type": "code",
        "colab": {
          "base_uri": "https://localhost:8080/",
          "height": 51
        },
        "outputId": "b254de8e-34d8-425c-934e-ef4b14812f04"
      },
      "source": [
        "variable=100\n",
        "Var=\"Programming in Python\"\n",
        "print (variable)\n",
        "print (Var)"
      ],
      "execution_count": null,
      "outputs": [
        {
          "output_type": "stream",
          "text": [
            "100\n",
            "Programming in Python\n"
          ],
          "name": "stdout"
        }
      ]
    },
    {
      "cell_type": "code",
      "metadata": {
        "id": "RzsKNkkuMhvl",
        "colab_type": "code",
        "colab": {
          "base_uri": "https://localhost:8080/",
          "height": 34
        },
        "outputId": "78f9de8c-0341-4ddd-88b2-db5c4144831e"
      },
      "source": [
        "X=99\n",
        "Y=100\n",
        "Z= 99\n",
        "id(X)\n",
        "id(Z)"
      ],
      "execution_count": null,
      "outputs": [
        {
          "output_type": "execute_result",
          "data": {
            "text/plain": [
              "10917632"
            ]
          },
          "metadata": {
            "tags": []
          },
          "execution_count": 39
        }
      ]
    },
    {
      "cell_type": "code",
      "metadata": {
        "id": "ycx1ewQsNE8b",
        "colab_type": "code",
        "colab": {
          "base_uri": "https://localhost:8080/",
          "height": 34
        },
        "outputId": "aac71bd0-8cb1-4e77-df53-0d250f5de1df"
      },
      "source": [
        "var=-6\n",
        "var1=257\n",
        "id(var)\n",
        "id(var1)"
      ],
      "execution_count": null,
      "outputs": [
        {
          "output_type": "execute_result",
          "data": {
            "text/plain": [
              "140411250934096"
            ]
          },
          "metadata": {
            "tags": []
          },
          "execution_count": 44
        }
      ]
    },
    {
      "cell_type": "markdown",
      "metadata": {
        "id": "e6UsKrysN-h8",
        "colab_type": "text"
      },
      "source": [
        "#Python Operators"
      ]
    },
    {
      "cell_type": "markdown",
      "metadata": {
        "id": "mcUtQBW3OLU-",
        "colab_type": "text"
      },
      "source": [
        "Arithmetic operators"
      ]
    },
    {
      "cell_type": "code",
      "metadata": {
        "id": "sp1ZhqXDOMz3",
        "colab_type": "code",
        "colab": {
          "base_uri": "https://localhost:8080/",
          "height": 34
        },
        "outputId": "da44e371-5242-475d-f87a-50ceed0ccc95"
      },
      "source": [
        "x=3\n",
        "y=8\n",
        "print (x+y) #Addition operators (+)"
      ],
      "execution_count": null,
      "outputs": [
        {
          "output_type": "stream",
          "text": [
            "11\n"
          ],
          "name": "stdout"
        }
      ]
    },
    {
      "cell_type": "code",
      "metadata": {
        "id": "kd5D0vwOOksx",
        "colab_type": "code",
        "colab": {
          "base_uri": "https://localhost:8080/",
          "height": 34
        },
        "outputId": "9f09b231-cdf8-485b-e998-3dcbf4b901ac"
      },
      "source": [
        "x=10\n",
        "y=3\n",
        "print (x**y) #Exponentiation (**)"
      ],
      "execution_count": null,
      "outputs": [
        {
          "output_type": "stream",
          "text": [
            "1000\n"
          ],
          "name": "stdout"
        }
      ]
    },
    {
      "cell_type": "code",
      "metadata": {
        "id": "23eksi1PO6wf",
        "colab_type": "code",
        "colab": {
          "base_uri": "https://localhost:8080/",
          "height": 34
        },
        "outputId": "03a56b40-1475-4c08-962b-9ee6faf0fc1a"
      },
      "source": [
        "x=3\n",
        "y=8\n",
        "print (x-y)\n",
        "#Subtraction operators (-)"
      ],
      "execution_count": null,
      "outputs": [
        {
          "output_type": "stream",
          "text": [
            "-5\n"
          ],
          "name": "stdout"
        }
      ]
    },
    {
      "cell_type": "code",
      "metadata": {
        "id": "KCgaeiCNPcdz",
        "colab_type": "code",
        "colab": {
          "base_uri": "https://localhost:8080/",
          "height": 34
        },
        "outputId": "12b22c28-9fa4-447d-e68c-b11544c72863"
      },
      "source": [
        "x=3\n",
        "y=8\n",
        "print (x%y) #Modulus operators (%)"
      ],
      "execution_count": null,
      "outputs": [
        {
          "output_type": "stream",
          "text": [
            "3\n"
          ],
          "name": "stdout"
        }
      ]
    },
    {
      "cell_type": "code",
      "metadata": {
        "id": "ws28qYrhPFEw",
        "colab_type": "code",
        "colab": {
          "base_uri": "https://localhost:8080/",
          "height": 51
        },
        "outputId": "5e9a4e33-c9e3-44b2-e094-98f0a5776065"
      },
      "source": [
        "x=100\n",
        "y=10\n",
        "print (x/y) #Division (/)\n",
        "print(x*y) #Multiplication (*)"
      ],
      "execution_count": null,
      "outputs": [
        {
          "output_type": "stream",
          "text": [
            "10.0\n",
            "1000\n"
          ],
          "name": "stdout"
        }
      ]
    },
    {
      "cell_type": "code",
      "metadata": {
        "id": "dCv2ktuQPlrQ",
        "colab_type": "code",
        "colab": {
          "base_uri": "https://localhost:8080/",
          "height": 34
        },
        "outputId": "f39d2d4d-cbe6-4002-c790-00851195b408"
      },
      "source": [
        "x=15\n",
        "y=2\n",
        "print (x//y) #floor division(//)"
      ],
      "execution_count": null,
      "outputs": [
        {
          "output_type": "stream",
          "text": [
            "7\n"
          ],
          "name": "stdout"
        }
      ]
    },
    {
      "cell_type": "markdown",
      "metadata": {
        "id": "TDJaH8iIP-ac",
        "colab_type": "text"
      },
      "source": [
        "#Python assignment operator"
      ]
    },
    {
      "cell_type": "code",
      "metadata": {
        "id": "9NCw-lfQQHNB",
        "colab_type": "code",
        "colab": {
          "base_uri": "https://localhost:8080/",
          "height": 34
        },
        "outputId": "137d9c67-e156-41d3-eb08-ee509c145572"
      },
      "source": [
        "Operand=5\n",
        "print (Operand)"
      ],
      "execution_count": null,
      "outputs": [
        {
          "output_type": "stream",
          "text": [
            "5\n"
          ],
          "name": "stdout"
        }
      ]
    },
    {
      "cell_type": "code",
      "metadata": {
        "id": "8ttFdHGPQVYK",
        "colab_type": "code",
        "colab": {
          "base_uri": "https://localhost:8080/",
          "height": 34
        },
        "outputId": "0e175207-c261-41b4-d95a-cf1dce4bf0e9"
      },
      "source": [
        "Operand=5\n",
        "Operand**=6 #shorthand operators\n",
        "print (Operand)"
      ],
      "execution_count": null,
      "outputs": [
        {
          "output_type": "stream",
          "text": [
            "15625\n"
          ],
          "name": "stdout"
        }
      ]
    },
    {
      "cell_type": "code",
      "metadata": {
        "id": "KVc1_V-UQpJ0",
        "colab_type": "code",
        "colab": {
          "base_uri": "https://localhost:8080/",
          "height": 51
        },
        "outputId": "a672c4d6-fcc8-49d5-863b-5085101144dc"
      },
      "source": [
        "Operand1=10000\n",
        "Operand2=50\n",
        "Operand1*=3\n",
        "print (Operand1)\n",
        "Operand2//=10\n",
        "print (Operand2)"
      ],
      "execution_count": null,
      "outputs": [
        {
          "output_type": "stream",
          "text": [
            "30000\n",
            "5\n"
          ],
          "name": "stdout"
        }
      ]
    },
    {
      "cell_type": "markdown",
      "metadata": {
        "id": "FNgQmHnPRbO2",
        "colab_type": "text"
      },
      "source": [
        "#Comparison operators\n",
        "== , !=, >, < , >=, <="
      ]
    },
    {
      "cell_type": "code",
      "metadata": {
        "id": "zjVwkcfoRfkp",
        "colab_type": "code",
        "colab": {
          "base_uri": "https://localhost:8080/",
          "height": 119
        },
        "outputId": "b9904c20-e09a-451c-bf47-ba2617ae61ca"
      },
      "source": [
        "Operand1=100\n",
        "Operand2=200\n",
        "print (Operand1==Operand2)\n",
        "print (Operand1!=Operand2)\n",
        "print (Operand1>Operand2)\n",
        "print (Operand1<Operand2)\n",
        "print (Operand1>=Operand2)\n",
        "print (Operand1<=Operand2)"
      ],
      "execution_count": null,
      "outputs": [
        {
          "output_type": "stream",
          "text": [
            "False\n",
            "True\n",
            "False\n",
            "True\n",
            "False\n",
            "True\n"
          ],
          "name": "stdout"
        }
      ]
    },
    {
      "cell_type": "code",
      "metadata": {
        "id": "CzKGwJHmSdk_",
        "colab_type": "code",
        "colab": {
          "base_uri": "https://localhost:8080/",
          "height": 51
        },
        "outputId": "bd56f6c8-05b1-4b29-c013-4e0f4a7cd85b"
      },
      "source": [
        "Operand1=20\n",
        "Operand2=30\n",
        "Operand3=100\n",
        "print (Operand1<=Operand3)\n",
        "print (Operand3==Operand2)"
      ],
      "execution_count": null,
      "outputs": [
        {
          "output_type": "stream",
          "text": [
            "True\n",
            "False\n"
          ],
          "name": "stdout"
        }
      ]
    },
    {
      "cell_type": "markdown",
      "metadata": {
        "id": "xkdPX_n7S1hZ",
        "colab_type": "text"
      },
      "source": [
        "#Logical Operators\n",
        "and , or , not"
      ]
    },
    {
      "cell_type": "code",
      "metadata": {
        "id": "Ch4bO0AdTBfq",
        "colab_type": "code",
        "colab": {
          "base_uri": "https://localhost:8080/",
          "height": 34
        },
        "outputId": "596ee9fd-e35c-4135-e38d-6c1661dbfcea"
      },
      "source": [
        "operand1=199\n",
        "print (operand1>190 and operand1<200)"
      ],
      "execution_count": null,
      "outputs": [
        {
          "output_type": "stream",
          "text": [
            "True\n"
          ],
          "name": "stdout"
        }
      ]
    },
    {
      "cell_type": "code",
      "metadata": {
        "id": "4bia6s4NTli3",
        "colab_type": "code",
        "colab": {
          "base_uri": "https://localhost:8080/",
          "height": 34
        },
        "outputId": "2c1fe2f7-0eeb-4555-8e5a-4f65f948b8ee"
      },
      "source": [
        "Operand1=1000\n",
        "print (Operand1>300 or Operand1<1500)"
      ],
      "execution_count": null,
      "outputs": [
        {
          "output_type": "stream",
          "text": [
            "True\n"
          ],
          "name": "stdout"
        }
      ]
    },
    {
      "cell_type": "code",
      "metadata": {
        "id": "yrQ1cqG5T0Kq",
        "colab_type": "code",
        "colab": {
          "base_uri": "https://localhost:8080/",
          "height": 34
        },
        "outputId": "7c9c50e7-487a-4881-99d1-d01be53853f8"
      },
      "source": [
        "Operand= 20000\n",
        "print (not (Operand>3000 and Operand<23000))"
      ],
      "execution_count": null,
      "outputs": [
        {
          "output_type": "stream",
          "text": [
            "False\n"
          ],
          "name": "stdout"
        }
      ]
    },
    {
      "cell_type": "markdown",
      "metadata": {
        "id": "EnYBzQFIUTJr",
        "colab_type": "text"
      },
      "source": [
        "#Identity Operators \n",
        "is , is not"
      ]
    },
    {
      "cell_type": "code",
      "metadata": {
        "id": "_OLGsK2sUccj",
        "colab_type": "code",
        "colab": {
          "base_uri": "https://localhost:8080/",
          "height": 68
        },
        "outputId": "288bb06b-d854-4994-934d-8ae4249ef21a"
      },
      "source": [
        "X=10\n",
        "Y=10\n",
        "Z=X\n",
        "print (X is Y)\n",
        "print (X is Z)\n",
        "print (X==Z)"
      ],
      "execution_count": null,
      "outputs": [
        {
          "output_type": "stream",
          "text": [
            "True\n",
            "True\n",
            "True\n"
          ],
          "name": "stdout"
        }
      ]
    },
    {
      "cell_type": "code",
      "metadata": {
        "id": "R-JYjmqNU3-Y",
        "colab_type": "code",
        "colab": {
          "base_uri": "https://localhost:8080/",
          "height": 34
        },
        "outputId": "356f138a-b2bb-480b-9ffd-a08f4d3d8fc7"
      },
      "source": [
        "X=[\"Code\",\"learning\"]\n",
        "Y=[\"Code\",\"learning\"]\n",
        "Z=X\n",
        "print (X is not Z)"
      ],
      "execution_count": null,
      "outputs": [
        {
          "output_type": "stream",
          "text": [
            "False\n"
          ],
          "name": "stdout"
        }
      ]
    },
    {
      "cell_type": "markdown",
      "metadata": {
        "id": "uWRyBIwtVU-w",
        "colab_type": "text"
      },
      "source": [
        "#Membership Operators \n",
        "in , not in"
      ]
    },
    {
      "cell_type": "code",
      "metadata": {
        "id": "5x0qZ8fnVfKy",
        "colab_type": "code",
        "colab": {
          "base_uri": "https://localhost:8080/",
          "height": 51
        },
        "outputId": "dec8b3d2-2b40-422d-a4c5-62a975710a7d"
      },
      "source": [
        "X=[\"Python\",\"programming\"]\n",
        "print (\"programming\" in X)\n",
        "print(\"anaconda\" in X)"
      ],
      "execution_count": null,
      "outputs": [
        {
          "output_type": "stream",
          "text": [
            "True\n",
            "False\n"
          ],
          "name": "stdout"
        }
      ]
    },
    {
      "cell_type": "code",
      "metadata": {
        "id": "J7UqzKxKV1_a",
        "colab_type": "code",
        "colab": {
          "base_uri": "https://localhost:8080/",
          "height": 51
        },
        "outputId": "c0ecd03d-5db8-4a31-8842-0702ad7af92c"
      },
      "source": [
        "X=[\"Learn\", \"Code\"]\n",
        "print (\"python\" not in X)\n",
        "print (\"Code\" not in X)"
      ],
      "execution_count": null,
      "outputs": [
        {
          "output_type": "stream",
          "text": [
            "True\n",
            "False\n"
          ],
          "name": "stdout"
        }
      ]
    },
    {
      "cell_type": "markdown",
      "metadata": {
        "id": "V1JwujDNWZ3Y",
        "colab_type": "text"
      },
      "source": [
        "#Bitwise Operators \n",
        "& , | , ^ , ~ , << , >>"
      ]
    },
    {
      "cell_type": "code",
      "metadata": {
        "id": "muyaG3YIWsG_",
        "colab_type": "code",
        "colab": {
          "base_uri": "https://localhost:8080/",
          "height": 85
        },
        "outputId": "980c07b7-1d9f-4625-adb3-e6b45de8d316"
      },
      "source": [
        "a=10\n",
        "b=4\n",
        "print (\"a&b=\", a&b)\n",
        "print (\"a|b=\", a|b)\n",
        "print (\"a^b=\", a^b)\n",
        "print (\"~b=\", ~b)"
      ],
      "execution_count": null,
      "outputs": [
        {
          "output_type": "stream",
          "text": [
            "a&b= 0\n",
            "a|b= 14\n",
            "a^b= 14\n",
            "~b= -5\n"
          ],
          "name": "stdout"
        }
      ]
    },
    {
      "cell_type": "markdown",
      "metadata": {
        "id": "tGUbGBFkXQxO",
        "colab_type": "text"
      },
      "source": [
        "#Operator Precedence"
      ]
    },
    {
      "cell_type": "code",
      "metadata": {
        "id": "y2wv9acDXavc",
        "colab_type": "code",
        "colab": {
          "base_uri": "https://localhost:8080/",
          "height": 34
        },
        "outputId": "e6f688f4-6339-4261-fe56-17e02d4cad89"
      },
      "source": [
        "a=20\n",
        "b=10\n",
        "c=0\n",
        "c=(a+b)*c\n",
        "print (\"Value of (a+b)*c is \",c)"
      ],
      "execution_count": null,
      "outputs": [
        {
          "output_type": "stream",
          "text": [
            "Value of (a+b)*c is  0\n"
          ],
          "name": "stdout"
        }
      ]
    },
    {
      "cell_type": "code",
      "metadata": {
        "id": "98ku-yqsX2OS",
        "colab_type": "code",
        "colab": {
          "base_uri": "https://localhost:8080/",
          "height": 54
        },
        "outputId": "38f145c1-78e4-4a52-843a-b633d211f5ab"
      },
      "source": [
        " a=20\n",
        "b=10\n",
        "c=30\n",
        "c=a+b/c\n",
        "print (\"Value of (a+b)*c is \",c)"
      ],
      "execution_count": null,
      "outputs": [
        {
          "output_type": "stream",
          "text": [
            "Value of (a+b)*c is  20.333333333333332\n"
          ],
          "name": "stdout"
        }
      ]
    }
  ]
}